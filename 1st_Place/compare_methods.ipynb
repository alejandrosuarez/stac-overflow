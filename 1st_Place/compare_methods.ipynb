{
 "cells": [
  {
   "cell_type": "code",
   "execution_count": 4,
   "metadata": {},
   "outputs": [],
   "source": [
    "from pathlib import Path\n",
    "import warnings\n",
    "\n",
    "import matplotlib.pyplot as plt\n",
    "import numpy as np\n",
    "import pandas as pd\n",
    "import rasterio\n",
    "from sklearn.metrics import jaccard_score\n",
    "\n",
    "warnings.filterwarnings('ignore')"
   ]
  },
  {
   "cell_type": "code",
   "execution_count": null,
   "metadata": {},
   "outputs": [],
   "source": [
    "train_features = Path.cwd().parent / \"training_data\" / \"train_features\"\n",
    "train_labels = Path.cwd().parent / \"training_data\" / \"train_labels\""
   ]
  },
  {
   "cell_type": "code",
   "execution_count": null,
   "metadata": {},
   "outputs": [],
   "source": [
    "compare_df = pd.read_csv('compare_df.csv')"
   ]
  },
  {
   "cell_type": "code",
   "execution_count": 2,
   "metadata": {},
   "outputs": [],
   "source": [
    "def process_mask(mask):\n",
    "    mask_temp = mask.copy()\n",
    "    mask_temp[mask == 255] = 0\n",
    "    return mask_temp\n",
    "\n",
    "\n",
    "def score(pred_thresh, mask):\n",
    "    return round(jaccard_score(mask.flatten(), pred_thresh.flatten()), 3)"
   ]
  },
  {
   "cell_type": "code",
   "execution_count": null,
   "metadata": {},
   "outputs": [],
   "source": [
    "for i, val in compare_df.iterrows():\n",
    "    \n",
    "    unet_pred = np.load(val[1]+'.npy')\n",
    "    cat_pred = np.load(val[2]+'.npy')\n",
    "    \n",
    "    with rasterio.open(train_labels / '{}.tif'.format(val[0])) as fmask:\n",
    "        gt = process_mask(fmask.read(1))\n",
    "        \n",
    "    with rasterio.open(train_features / '{}_vh.tif'.format(val[0])) as fvh:\n",
    "        vh = fvh.read(1)\n",
    "    \n",
    "    _, ax = plt.subplots(1, 5, figsize=(20, 5))\n",
    "    \n",
    "    ax[0].imshow(vh)\n",
    "    ax[0].set_title('vh')\n",
    "    \n",
    "    ax[1].imshow(gt)\n",
    "    ax[1].set_title('gt')\n",
    "    \n",
    "    ax[2].imshow(np.round(unet_pred))\n",
    "    ax[2].set_title('unet\\n'+str(score(np.round(unet_pred), gt)))\n",
    "    \n",
    "    ax[3].imshow(np.round(cat_pred))\n",
    "    ax[3].set_title('cat\\n'+str(score(np.round(cat_pred), gt)))\n",
    "    \n",
    "    all_pred = np.round(np.max([unet_pred, cat_pred], axis=0))\n",
    "    \n",
    "    ax[4].imshow(all_pred)\n",
    "    ax[4].set_title('unet+cat\\n'+str(score(all_pred, gt)))\n",
    "    \n",
    "    plt.show()"
   ]
  },
  {
   "cell_type": "code",
   "execution_count": null,
   "metadata": {},
   "outputs": [],
   "source": []
  }
 ],
 "metadata": {
  "kernelspec": {
   "display_name": "Python 3 (ipykernel)",
   "language": "python",
   "name": "python3"
  },
  "language_info": {
   "codemirror_mode": {
    "name": "ipython",
    "version": 3
   },
   "file_extension": ".py",
   "mimetype": "text/x-python",
   "name": "python",
   "nbconvert_exporter": "python",
   "pygments_lexer": "ipython3",
   "version": "3.8.12"
  }
 },
 "nbformat": 4,
 "nbformat_minor": 4
}
